{
 "cells": [
  {
   "cell_type": "code",
   "execution_count": 1,
   "id": "115bb98b",
   "metadata": {
    "scrolled": true
   },
   "outputs": [],
   "source": [
    "# Import Libraries\n",
    "import numpy as np \n",
    "import pandas as pd\n",
    "import matplotlib.pyplot as plt\n",
    "import seaborn as sns\n",
    "from pmdarima import auto_arima\n",
    "from statsmodels.tsa.statespace.sarimax import SARIMAX \n",
    "import statsmodels.api as sm\n",
    "from sklearn.preprocessing import MinMaxScaler\n",
    "import ipywidgets as widgets\n",
    "from IPython.display import display\n",
    "from IPython.display import HTML\n",
    "\n",
    "import warnings\n",
    "warnings.filterwarnings(\"ignore\")\n"
   ]
  },
  {
   "cell_type": "code",
   "execution_count": 2,
   "id": "0a539d47",
   "metadata": {
    "scrolled": true
   },
   "outputs": [],
   "source": [
    "# Reading Dataframe\n",
    "df = pd.read_csv('/Users/devonmarcus/Data Science Bootcamp/Ticketmaster Project/data/Event_Information_Dataframe_Part_4.csv', sep='\\t')\n",
    "df.drop(\"Unnamed: 0\", axis=1, inplace=True)\n",
    "pd.set_option('display.max_columns', 999)"
   ]
  },
  {
   "cell_type": "code",
   "execution_count": 3,
   "id": "588428e8",
   "metadata": {},
   "outputs": [],
   "source": [
    "# Making Ajustments to row and columns\n",
    "df['Year'] = df['Year'].astype(str)\n",
    "df['Month'] = df['Month'].astype(str).str.zfill(2)\n",
    "df['Day'] = df['Day'].astype(str).str.zfill(2)\n",
    "df[\"Date\"] = df[\"Year\"] + '-' + df[\"Month\"] + '-' + df[\"Day\"]\n",
    "df = df[df['Home_Name'].notna()]\n",
    "df = df[df['Genre_Home'].notna()]"
   ]
  },
  {
   "cell_type": "code",
   "execution_count": 4,
   "id": "d036ed24",
   "metadata": {
    "scrolled": true
   },
   "outputs": [],
   "source": [
    "# Filtering Columns\n",
    "\n",
    "df = df.iloc[: , [0,1,53,54,5,30,32,33,34,35,27,55,26,23,6,7,8,9,10,11,12,13,14,15,16,17,18,19,20,21,22,40,41,42,43,44,45,47,48,49,50,51]]\n"
   ]
  },
  {
   "cell_type": "code",
   "execution_count": 5,
   "id": "7b1ed0a9",
   "metadata": {},
   "outputs": [],
   "source": [
    "ALL = 'ALL'\n",
    "def unique_sorted_values_plus_ALL(array):\n",
    "    unique = array.unique().tolist()\n",
    "    unique.sort()\n",
    "    unique.insert(0, ALL)\n",
    "    return unique"
   ]
  },
  {
   "cell_type": "code",
   "execution_count": 6,
   "id": "c629dd48",
   "metadata": {},
   "outputs": [],
   "source": [
    "output = widgets.Output()\n",
    "plot_output = widgets.Output()\n",
    "plot_output2 = widgets.Output()\n",
    "plot_output3 = widgets.Output()\n",
    "\n",
    "dropdown_Venue_Country = widgets.Dropdown(description='Country:',options = unique_sorted_values_plus_ALL(df.Venue_Country))\n",
    "dropdown_Venue_City = widgets.Dropdown(description='City:',options = unique_sorted_values_plus_ALL(df.Venue_City))\n",
    "dropdown_Segment_Home = widgets.Dropdown(description='Segment:',options = unique_sorted_values_plus_ALL(df.Segment_Home))\n",
    "dropdown_Genre_Home = widgets.Dropdown(description='Genre:',options = unique_sorted_values_plus_ALL(df.Genre_Home))\n",
    "dropdown_Home_Name = widgets.Dropdown(description='Home:',options = unique_sorted_values_plus_ALL(df.Home_Name))\n",
    "bounded_date = widgets.DatePicker(description='Pick a Date',disabled=False)\n",
    "\n",
    "def colour(value, comparison):\n",
    "    \n",
    "        if (str(value)[0:10]) == (str(comparison)[0:10]):\n",
    "            return 'color: red'\n",
    "        else:\n",
    "            return 'color: black'\n",
    "    \n",
    "def common_filtering(Venue_Country, Venue_City, Segment_Home, Genre_Home,Home_Name, date):\n",
    "    output.clear_output()\n",
    "    plot_output.clear_output()\n",
    "    plot_output2.clear_output()\n",
    "    plot_output3.clear_output()\n",
    "\n",
    "    if (Venue_Country == ALL) & (Venue_City == ALL) & (Segment_Home == ALL) & (Genre_Home == ALL)& (Home_Name == ALL):\n",
    "        common_filter = df\n",
    "        \n",
    "    elif (Venue_City == ALL) & (Segment_Home == ALL) & (Genre_Home == ALL) & (Home_Name == ALL):\n",
    "        common_filter = df[(df.Venue_Country == Venue_Country)]   \n",
    "        \n",
    "    elif (Segment_Home == ALL) & (Genre_Home == ALL) & (Home_Name == ALL):\n",
    "        common_filter = df[(df.Venue_Country == Venue_Country) & (df.Venue_City == Venue_City)]\n",
    "    \n",
    "    elif (Genre_Home == ALL) & (Home_Name == ALL):\n",
    "        common_filter = df[(df.Venue_Country == Venue_Country) & (df.Venue_City == Venue_City) & (df.Segment_Home == Segment_Home)]\n",
    "\n",
    "    elif (Home_Name == ALL):\n",
    "        common_filter = df[(df.Venue_Country == Venue_Country) & (df.Venue_City == Venue_City) & (df.Segment_Home == Segment_Home) & (df.Genre_Home == Genre_Home)]\n",
    "\n",
    "    else:\n",
    "        common_filter =  df[(df.Venue_Country == Venue_Country) & (df.Venue_City == Venue_City) & (df.Segment_Home == Segment_Home) & (df.Genre_Home == Genre_Home) & (df.Home_Name == Home_Name)]\n",
    "\n",
    "    with output:\n",
    "        display(common_filter.style.applymap(lambda x: colour(x, date),subset=['Date']))\n",
    "\n",
    "    with plot_output:\n",
    "        sns.kdeplot(common_filter['Price_Ranges_Min'], shade=True)\n",
    "        plt.show()   \n",
    "    with plot_output2:\n",
    "        sns.kdeplot(common_filter['Price_Ranges_Avg'], shade=True)\n",
    "        plt.show()     \n",
    "    with plot_output3:\n",
    "        sns.kdeplot(common_filter['Price_Ranges_Max'], shade=True)\n",
    "        plt.show()  \n",
    "        \n",
    "def dropdown_Venue_Country_eventhandler(change):\n",
    "    common_filtering(change.new, dropdown_Venue_City, dropdown_Segment_Home.value, dropdown_Genre_Home.value, dropdown_Home_Name.value, bounded_date.value)        \n",
    "def dropdown_Venue_City_eventhandler(change):\n",
    "    common_filtering(dropdown_Venue_Country.value, change.new, dropdown_Segment_Home.value, dropdown_Genre_Home.value, dropdown_Home_Name.value, bounded_date.value)\n",
    "def dropdown_Segment_Home_eventhandler(change):\n",
    "    common_filtering(dropdown_Venue_Country.value, dropdown_Venue_City.value, change.new, dropdown_Genre_Home.value, dropdown_Home_Name.value, bounded_date.value)\n",
    "def dropdown_Genre_Home_eventhandler(change):\n",
    "    common_filtering(dropdown_Venue_Country.value, dropdown_Venue_City.value, dropdown_Segment_Home.value, change.new, dropdown_Home_Name.value, bounded_date.value)\n",
    "def dropdown_Home_Name_eventhandler(change):\n",
    "    common_filtering(dropdown_Venue_Country.value, dropdown_Venue_City.value, dropdown_Segment_Home.value, dropdown_Genre_Home.value, change.new, bounded_date.value)\n",
    "def bounded_date_eventhandler(change):\n",
    "    common_filtering(dropdown_Venue_Country.value, dropdown_Venue_City.value, dropdown_Segment_Home.value, dropdown_Genre_Home.value, dropdown_Home_Name.value, change.new)\n",
    "    \n",
    "\n",
    "    \n",
    "dropdown_Venue_Country.observe(dropdown_Venue_Country_eventhandler, names='value')\n",
    "dropdown_Venue_City.observe(dropdown_Venue_City_eventhandler, names='value')\n",
    "dropdown_Segment_Home.observe(dropdown_Segment_Home_eventhandler, names='value')\n",
    "dropdown_Genre_Home.observe(dropdown_Genre_Home_eventhandler, names='value')\n",
    "dropdown_Home_Name.observe(dropdown_Home_Name_eventhandler, names='value')\n",
    "bounded_date.observe(bounded_date_eventhandler, names='value')"
   ]
  },
  {
   "cell_type": "code",
   "execution_count": 7,
   "id": "2c08406d",
   "metadata": {},
   "outputs": [],
   "source": [
    "input_widgets = widgets.HBox([dropdown_Venue_Country, dropdown_Venue_City, dropdown_Segment_Home,dropdown_Genre_Home,dropdown_Home_Name,bounded_date])"
   ]
  },
  {
   "cell_type": "code",
   "execution_count": 8,
   "id": "0e3c03d5",
   "metadata": {},
   "outputs": [],
   "source": [
    "tab = widgets.Tab([output, plot_output,plot_output2,plot_output3])\n",
    "tab.set_title(0, 'Exploration')\n",
    "tab.set_title(1, 'Min_Price')\n",
    "tab.set_title(2, 'Avg_Price')\n",
    "tab.set_title(3, 'Max_Price')\n"
   ]
  },
  {
   "cell_type": "code",
   "execution_count": 9,
   "id": "341000ca",
   "metadata": {
    "scrolled": true
   },
   "outputs": [
    {
     "data": {
      "application/vnd.jupyter.widget-view+json": {
       "model_id": "e4b7131f05b24bb9a7d3c8bb5114eb44",
       "version_major": 2,
       "version_minor": 0
      },
      "text/plain": [
       "Dropdown(description='Country:', options=('ALL', 'Australia', 'Canada', 'Great Britain', 'Ireland', 'New Zeala…"
      ]
     },
     "metadata": {},
     "output_type": "display_data"
    },
    {
     "data": {
      "application/vnd.jupyter.widget-view+json": {
       "model_id": "160e8a7cfb6a40d8a4d34f433fde01a0",
       "version_major": 2,
       "version_minor": 0
      },
      "text/plain": [
       "Dropdown(description='City:', options=('ALL', 'Abbotsford', 'Aberdeen', 'Aberystwyth', 'Adelaide ', 'Agoura Hi…"
      ]
     },
     "metadata": {},
     "output_type": "display_data"
    },
    {
     "data": {
      "application/vnd.jupyter.widget-view+json": {
       "model_id": "77f99c6b4278484a919f2bac507a38de",
       "version_major": 2,
       "version_minor": 0
      },
      "text/plain": [
       "Dropdown(description='Segment:', options=('ALL', 'Arts & Theatre', 'Film', 'Miscellaneous', 'Music', 'Sports')…"
      ]
     },
     "metadata": {},
     "output_type": "display_data"
    },
    {
     "data": {
      "application/vnd.jupyter.widget-view+json": {
       "model_id": "c1eadfe39c304e44a6f43638c22c2691",
       "version_major": 2,
       "version_minor": 0
      },
      "text/plain": [
       "Dropdown(description='Genre:', options=('ALL', 'Action/Adventure', 'Alternative', 'Animation', 'Ballads/Romant…"
      ]
     },
     "metadata": {},
     "output_type": "display_data"
    },
    {
     "data": {
      "application/vnd.jupyter.widget-view+json": {
       "model_id": "4bd4f2b8670a429e9466ea14283dde6c",
       "version_major": 2,
       "version_minor": 0
      },
      "text/plain": [
       "Dropdown(description='Home:', options=('ALL', '$UICIDEBOY$', \"'Twas the Night Before... by Cirque du Soleil\", …"
      ]
     },
     "metadata": {},
     "output_type": "display_data"
    },
    {
     "data": {
      "application/vnd.jupyter.widget-view+json": {
       "model_id": "b890fb5c17ee4aa98c247cb2d4424272",
       "version_major": 2,
       "version_minor": 0
      },
      "text/plain": [
       "DatePicker(value=None, description='Pick a Date')"
      ]
     },
     "metadata": {},
     "output_type": "display_data"
    },
    {
     "data": {
      "application/vnd.jupyter.widget-view+json": {
       "model_id": "e995c4b0b6b24d208e5af00e58f79aec",
       "version_major": 2,
       "version_minor": 0
      },
      "text/plain": [
       "VBox(children=(Tab(children=(Output(), Output(), Output(), Output()), _titles={'0': 'Exploration', '1': 'Min_P…"
      ]
     },
     "metadata": {},
     "output_type": "display_data"
    }
   ],
   "source": [
    "dashboard = widgets.VBox([tab])\n",
    "display(dropdown_Venue_Country)\n",
    "display(dropdown_Venue_City)\n",
    "display(dropdown_Segment_Home)\n",
    "display(dropdown_Genre_Home)\n",
    "display(dropdown_Home_Name)\n",
    "display(bounded_date)\n",
    "display(dashboard)"
   ]
  }
 ],
 "metadata": {
  "kernelspec": {
   "display_name": "Python 3 (ipykernel)",
   "language": "python",
   "name": "python3"
  },
  "language_info": {
   "codemirror_mode": {
    "name": "ipython",
    "version": 3
   },
   "file_extension": ".py",
   "mimetype": "text/x-python",
   "name": "python",
   "nbconvert_exporter": "python",
   "pygments_lexer": "ipython3",
   "version": "3.9.12"
  },
  "vscode": {
   "interpreter": {
    "hash": "aee8b7b246df8f9039afb4144a1f6fd8d2ca17a180786b69acc140d282b71a49"
   }
  }
 },
 "nbformat": 4,
 "nbformat_minor": 5
}
